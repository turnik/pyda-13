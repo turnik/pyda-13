{
 "cells": [
  {
   "cell_type": "markdown",
   "source": [
    "Решение задач из урока \"Управляющие конструкции и коллекции часть 1\""
   ],
   "metadata": {
    "collapsed": false
   }
  },
  {
   "cell_type": "markdown",
   "source": [
    "Задача 1"
   ],
   "metadata": {
    "collapsed": false
   }
  },
  {
   "cell_type": "code",
   "execution_count": null,
   "outputs": [],
   "source": [
    "from typing import List\n",
    "def is_odd(string: str) -> bool:\n",
    "    return len(string) % 2 > 0\n",
    "\n",
    "def crop_odd_string(string: str)-> str:\n",
    "    return string[len(string) // 2]\n",
    "\n",
    "def crop_even_string(string: str) -> str:\n",
    "    first_letter_index  = int((len(string) / 2) - 1)\n",
    "    return string[first_letter_index : first_letter_index + 2]\n",
    "\n",
    "user_input = str(input('Введите строку'))\n",
    "center_index = len(user_input) // 2\n",
    "\n",
    "print(crop_odd_string(user_input) if is_odd(user_input) else crop_even_string(user_input))"
   ],
   "metadata": {
    "collapsed": false,
    "pycharm": {
     "name": "#%%\n"
    }
   }
  },
  {
   "cell_type": "markdown",
   "source": [
    "Задача 2"
   ],
   "metadata": {
    "collapsed": false
   }
  },
  {
   "cell_type": "code",
   "execution_count": null,
   "outputs": [],
   "source": [
    "accumulator = 0\n",
    "\n",
    "while True:\n",
    "    user_input = int(input('Введите число:'))\n",
    "    if user_input == 0 :\n",
    "        print(accumulator)\n",
    "        break\n",
    "    else:\n",
    "        accumulator += user_input"
   ],
   "metadata": {
    "collapsed": false,
    "pycharm": {
     "name": "#%%\n"
    }
   }
  },
  {
   "cell_type": "markdown",
   "source": [
    "Задача 3"
   ],
   "metadata": {
    "collapsed": false,
    "pycharm": {
     "name": "#%% md\n"
    }
   }
  },
  {
   "cell_type": "code",
   "execution_count": null,
   "outputs": [],
   "source": [
    "def suggest_couples(boys: list, girls: list):\n",
    "    if len(boys) != len(girls):\n",
    "        print('Внимание, кто-то может остаться без пары!')\n",
    "    else:\n",
    "        boys.sort()\n",
    "        girls.sort()\n",
    "        for i in range(len(boys)):\n",
    "            print(str(boys[i]) + ' ' + str(girls[i]))\n",
    "\n",
    "print('happy path')\n",
    "suggest_couples(\n",
    "    ['Peter', 'Alex', 'John', 'Arthur', 'Richard'],\n",
    "    ['Kate', 'Liza', 'Kira', 'Emma', 'Trisha']\n",
    ")\n",
    "print('\\ndifferent length')\n",
    "suggest_couples(\n",
    "    ['Peter', 'Alex', 'John', 'Arthur', 'Richard', 'Michael'],\n",
    "    ['Kate', 'Liza', 'Kira', 'Emma', 'Trisha']\n",
    ")"
   ],
   "metadata": {
    "collapsed": false,
    "pycharm": {
     "name": "#%%\n"
    }
   }
  },
  {
   "cell_type": "markdown",
   "source": [
    "Задача 4\n"
   ],
   "metadata": {
    "collapsed": false
   }
  },
  {
   "cell_type": "code",
   "execution_count": null,
   "outputs": [],
   "source": [
    "def convert_to_celcius(fahrenheit_temp: float) -> float:\n",
    "    return (fahrenheit_temp - 32) / 1.8\n",
    "\n",
    "def convert_temperature_data(data: list) -> list:\n",
    "    return list(map(lambda temp: convert_to_celcius(temp), data))\n",
    "\n",
    "def average(data: list) -> float:\n",
    "    return sum(data)/len(data)\n",
    "\n",
    "countries_temperature = [\n",
    "    ['Thailand', [75.2, 77, 78.8, 73.4, 68, 75.2, 77]],\n",
    "    ['Germany', [57.2, 55.4, 59, 59, 53.6]],\n",
    "    ['Russia', [35.6, 37.4, 39.2, 41, 42.8, 39.2, 35.6]],\n",
    "    ['Poland', [50, 50, 53.6, 57.2, 55.4, 55.4]]\n",
    "]\n",
    "\n",
    "for country, temperature_data in countries_temperature:\n",
    "    print(country + ' ' + str(round(average(convert_temperature_data(temperature_data)), 1)) + ' C')"
   ],
   "metadata": {
    "collapsed": false,
    "pycharm": {
     "name": "#%%\n"
    }
   }
  }
 ],
 "metadata": {
  "kernelspec": {
   "display_name": "Python 3",
   "language": "python",
   "name": "python3"
  },
  "language_info": {
   "codemirror_mode": {
    "name": "ipython",
    "version": 2
   },
   "file_extension": ".py",
   "mimetype": "text/x-python",
   "name": "python",
   "nbconvert_exporter": "python",
   "pygments_lexer": "ipython2",
   "version": "2.7.6"
  }
 },
 "nbformat": 4,
 "nbformat_minor": 0
}