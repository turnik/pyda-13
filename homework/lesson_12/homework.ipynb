{
 "cells": [
  {
   "cell_type": "markdown",
   "metadata": {
    "collapsed": true,
    "pycharm": {
     "name": "#%% md\n"
    }
   },
   "source": [
    "Домашняя работа по теме"
   ]
  },
  {
   "cell_type": "markdown",
   "source": [
    "Задание 1"
   ],
   "metadata": {
    "collapsed": false
   }
  },
  {
   "cell_type": "code",
   "execution_count": null,
   "outputs": [],
   "source": [
    "import pandas as pd\n",
    "\n",
    "def get_traffic_source(raw):\n",
    "    def __get_matched(__raw):\n",
    "        return {\n",
    "            __raw['traffic_source'] in ['yandex', 'google']: 'organic',\n",
    "            __raw['traffic_source'] in ['paid', 'email'] and __raw['region'] == 'Russia': 'ad',\n",
    "            __raw['traffic_source'] in ['paid', 'email'] and __raw['region'] != 'Russia': 'other'\n",
    "        }\n",
    "    return __get_matched(raw).get(True, raw['traffic_source'])\n",
    "\n",
    "visit_log = pd.read_csv('visit_log.csv', sep=';')\n",
    "visit_log['source_type'] = visit_log.apply(get_traffic_source, axis=1)\n",
    "\n",
    "visit_log"
   ],
   "metadata": {
    "collapsed": false,
    "pycharm": {
     "name": "#%%\n"
    }
   }
  },
  {
   "cell_type": "markdown",
   "source": [
    "Задание 2"
   ],
   "metadata": {
    "collapsed": false
   }
  },
  {
   "cell_type": "code",
   "execution_count": null,
   "outputs": [],
   "source": [
    "import pandas as pd\n",
    "\n",
    "urls = pd.read_csv('URLs.txt')\n",
    "\n",
    "urls[urls['url'].str.contains('/\\d{8}-', regex=True)]"
   ],
   "metadata": {
    "collapsed": false,
    "pycharm": {
     "name": "#%%\n"
    }
   }
  },
  {
   "cell_type": "markdown",
   "source": [
    "Задание 3"
   ],
   "metadata": {
    "collapsed": false
   }
  },
  {
   "cell_type": "code",
   "execution_count": null,
   "outputs": [],
   "source": [
    "import pandas as pd\n",
    "from pymystem3 import Mystem\n",
    "\n",
    "data = pd.DataFrame({\n",
    "    'keyword': ['курс гривны к рублю', 'доллары в рубли', '100 долларов в рублях', 'курс рубля'],\n",
    "    'shows': [125076, 114173, 97534, 53546],\n",
    "})\n",
    "\n",
    "stemmer = Mystem()\n",
    "\n",
    "data['stemmed'] = data['keyword'].apply(lambda string: ' '.join(stemmer.lemmatize(string)).strip())\n",
    "\n",
    "data[data['stemmed'].str.contains('доллар')][['keyword', 'shows']]\n"
   ],
   "metadata": {
    "collapsed": false,
    "pycharm": {
     "name": "#%%\n"
    }
   }
  }
 ],
 "metadata": {
  "kernelspec": {
   "display_name": "Python 3",
   "language": "python",
   "name": "python3"
  },
  "language_info": {
   "codemirror_mode": {
    "name": "ipython",
    "version": 2
   },
   "file_extension": ".py",
   "mimetype": "text/x-python",
   "name": "python",
   "nbconvert_exporter": "python",
   "pygments_lexer": "ipython2",
   "version": "2.7.6"
  }
 },
 "nbformat": 4,
 "nbformat_minor": 0
}