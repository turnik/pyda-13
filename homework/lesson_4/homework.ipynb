{
 "cells": [
  {
   "cell_type": "markdown",
   "metadata": {
    "collapsed": true,
    "pycharm": {
     "name": "#%% md\n"
    }
   },
   "source": [
    "Домашняя работа по уроку \"Функции\""
   ]
  },
  {
   "cell_type": "markdown",
   "metadata": {},
   "source": [
    "Задание 1"
   ]
  },
  {
   "cell_type": "code",
   "execution_count": null,
   "metadata": {
    "pycharm": {
     "name": "#%%\n"
    }
   },
   "outputs": [],
   "source": [
    "documents = [\n",
    "    {'type': 'passport', 'number': '2207 876234', 'name': 'Василий Гупкин'},\n",
    "    {'type': 'invoice', 'number': '11-2', 'name': 'Геннадий Покемонов'},\n",
    "    {'type': 'insurance', 'number': '10006', 'name': 'Аристарх Павлов'}\n",
    "]\n",
    "\n",
    "directories = {\n",
    "    '1': ['2207 876234', '11-2'],\n",
    "    '2': ['10006'],\n",
    "    '3': []\n",
    "}\n",
    "\n",
    "def find_doc_by_id(doc_id: str) -> dict:\n",
    "    for document in documents:\n",
    "        if document.get('number') == doc_id:\n",
    "            return document\n",
    "    raise ValueError('Документ не найден в базе')\n",
    "\n",
    "def find_directory_by_doc_id(doc_id: str) -> int:\n",
    "    for key, value in directories.items():\n",
    "        if doc_id in value:\n",
    "            return key\n",
    "    raise ValueError('Документ не найден в базе')\n",
    "\n",
    "def handle_doc_owner_search_cmd():\n",
    "    doc_id = input('Введите номер документа:')\n",
    "    document = find_doc_by_id(doc_id)\n",
    "    return 'Владелец документа ' + str(document.get('name'))\n",
    "\n",
    "def handle_list_documents_cmd():\n",
    "    docs_list = []\n",
    "    for document in documents:\n",
    "        row = {}\n",
    "        row.update(document)\n",
    "        row.update(dict(dir = find_directory_by_doc_id(document.get('number'))))\n",
    "        docs_list.append(__format_document_raw_for_list(row))\n",
    "    if len(docs_list) == 0:\n",
    "        raise ValueError('База данных не содержит документов')\n",
    "    return __convert_list_to_string(docs_list)\n",
    "\n",
    "def __convert_list_to_string(data: list) -> str:\n",
    "    return '\\n'.join(map(str, data))\n",
    "\n",
    "def __format_document_raw_for_list(document: dict) -> str:\n",
    "    return '№: ' + str(document.get('number')) + \\\n",
    "           ', тип: ' + str(document.get('type')) + \\\n",
    "           ', владелец: ' + str(document.get('name')) + \\\n",
    "           ', полка хранения: ' + str(document.get('dir'))\n",
    "\n",
    "def handle_directory_search_cmd():\n",
    "    doc_id = input('Введите номер документа:')\n",
    "    directory_id = find_directory_by_doc_id(doc_id)\n",
    "    return 'Документ хранится на полке ' + str(directory_id)\n",
    "\n",
    "def handle_add_dir_cmd():\n",
    "    dir_id = input('Введите номер полки:')\n",
    "    if directories.get(dir_id):\n",
    "        raise ValueError('Такая полка уже существует.' + __get_dir_list_as_string())\n",
    "    directories.update({dir_id: []})\n",
    "    return 'Полка добавлена. Текущий перечень полок: ' + __get_dir_list_as_string()\n",
    "\n",
    "def __get_dir_list_as_string() -> str:\n",
    "    return ' Текущий перечень полок: ' + ','.join(directories.keys())\n",
    "\n",
    "def handle_remove_dir_cmd():\n",
    "    dir_id = input('Введите номер полки:')\n",
    "    directory = directories.get(dir_id)\n",
    "    if directory is None:\n",
    "        raise ValueError('Такой полки не существует.' + __get_dir_list_as_string())\n",
    "    if len(directory) > 0:\n",
    "        raise ValueError('На полке есть документы, удалите их перед удалением полки.' + __get_dir_list_as_string())\n",
    "    del directories[dir_id]\n",
    "    return 'Полка удалена.' + __get_dir_list_as_string()\n",
    "\n",
    "while True:\n",
    "    try:\n",
    "        result = str\n",
    "        cmd = input('Введите команду:')\n",
    "\n",
    "        if cmd == 'q': break\n",
    "        elif cmd == 'p': result = handle_doc_owner_search_cmd()\n",
    "        elif cmd == 's': result = handle_directory_search_cmd()\n",
    "        elif cmd == 'l': result = handle_list_documents_cmd()\n",
    "        elif cmd == 'as': result = handle_add_dir_cmd()\n",
    "        elif cmd == 'ds': result = handle_remove_dir_cmd()\n",
    "        else: result = 'Неизвестная команда'\n",
    "\n",
    "        print('Результат: \\n' + result)\n",
    "    except ValueError as e:\n",
    "        print('Результат: ' + str(e))\n"
   ]
  }
 ],
 "metadata": {
  "kernelspec": {
   "display_name": "Python 3",
   "language": "python",
   "name": "python3"
  }
 },
 "nbformat": 4,
 "nbformat_minor": 1
}