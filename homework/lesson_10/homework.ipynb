{
 "cells": [
  {
   "cell_type": "markdown",
   "metadata": {
    "collapsed": true,
    "pycharm": {
     "name": "#%% md\n"
    }
   },
   "source": [
    "Домашняя работа к лекции «Библиотека Pandas»"
   ]
  },
  {
   "cell_type": "code",
   "execution_count": null,
   "outputs": [],
   "source": [
    "import pandas as pd"
   ],
   "metadata": {
    "collapsed": false,
    "pycharm": {
     "name": "#%%\n"
    }
   }
  },
  {
   "cell_type": "markdown",
   "source": [
    "Задание 1"
   ],
   "metadata": {
    "collapsed": false
   }
  },
  {
   "cell_type": "code",
   "execution_count": null,
   "outputs": [],
   "source": [
    "ratings = pd.read_csv('ml-latest-small/ratings.csv')\n",
    "\n",
    "ratings[ratings.rating == 5.0]['movieId'].value_counts(ascending=False).head(1)"
   ],
   "metadata": {
    "collapsed": false,
    "pycharm": {
     "name": "#%%\n"
    }
   }
  },
  {
   "cell_type": "markdown",
   "source": [
    "Задание 2"
   ],
   "metadata": {
    "collapsed": false
   }
  },
  {
   "cell_type": "code",
   "execution_count": null,
   "outputs": [],
   "source": [
    "def is_baltic(country: pd.Series) -> pd.Series:\n",
    "    return country.isin(['Lithuania', 'Latvia', 'Estonia'])\n",
    "\n",
    "def is_in_target_category(category: pd.Series) -> pd.Series:\n",
    "    return category.isin([4, 12, 21])\n",
    "\n",
    "def is_in_period(year: pd.Series) -> pd.Series:\n",
    "    return (year >= 2005) & (year <= 2010)\n",
    "\n",
    "power_consumption = pd.read_csv('power.csv')\n",
    "\n",
    "quantity = power_consumption[(is_baltic(power_consumption.country))\n",
    "                  & (is_in_target_category(power_consumption.category))\n",
    "                  & (is_in_period(power_consumption.year))\n",
    "                  & (power_consumption.quantity >= 0)]['quantity']\n",
    "\n",
    "print(quantity.value_counts().sum())\n"
   ],
   "metadata": {
    "collapsed": false,
    "pycharm": {
     "name": "#%%\n"
    }
   }
  },
  {
   "cell_type": "markdown",
   "source": [
    "Задание 3"
   ],
   "metadata": {
    "collapsed": false
   }
  },
  {
   "cell_type": "code",
   "execution_count": null,
   "outputs": [],
   "source": [
    "page = pd.read_html('https://www.finanz.ru/valyuty/v-realnom-vremeni', encoding='utf-8')\n",
    "page[0].head()"
   ],
   "metadata": {
    "collapsed": false,
    "pycharm": {
     "name": "#%%\n"
    }
   }
  }
 ],
 "metadata": {
  "kernelspec": {
   "display_name": "Python 3",
   "language": "python",
   "name": "python3"
  },
  "language_info": {
   "codemirror_mode": {
    "name": "ipython",
    "version": 2
   },
   "file_extension": ".py",
   "mimetype": "text/x-python",
   "name": "python",
   "nbconvert_exporter": "python",
   "pygments_lexer": "ipython2",
   "version": "2.7.6"
  }
 },
 "nbformat": 4,
 "nbformat_minor": 0
}