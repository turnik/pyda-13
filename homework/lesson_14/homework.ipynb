{
 "cells": [
  {
   "cell_type": "markdown",
   "metadata": {
    "collapsed": true,
    "pycharm": {
     "name": "#%% md\n"
    }
   },
   "source": [
    "Домашнняя работа по теме"
   ]
  },
  {
   "cell_type": "markdown",
   "source": [
    "Задание 1"
   ],
   "metadata": {
    "collapsed": false
   }
  },
  {
   "cell_type": "code",
   "source": [
    "import requests\n",
    "from bs4 import BeautifulSoup\n",
    "import re\n",
    "from typing import List\n",
    "import pandas as pd\n",
    "\n",
    "__all_posts: List[dict] = []\n",
    "KEYWORDS = ['python', 'парсинг']\n",
    "\n",
    "def read_data_from_remote_resource(url):\n",
    "    return BeautifulSoup(requests.get(url).text, 'html.parser')\n",
    "\n",
    "def load_available_pages(habr_all_page):\n",
    "    def find_pagination_elements(html_page):\n",
    "        return list(map(lambda x: x.find_all('a'), html_page.find_all('ul', id='nav-pagess')))[0]\n",
    "    def map_pagination_elements_to_pages(elements_list):\n",
    "        return list(map(lambda element: element.attrs.get('href'), elements_list))\n",
    "    return map_pagination_elements_to_pages(find_pagination_elements(habr_all_page))\n",
    "\n",
    "def find_last_page_num(available_pages_list):\n",
    "    return int(list(map(lambda x: re.findall('\\d+', x), available_pages_list))[len(available_pages_list) - 1][0])\n",
    "\n",
    "def extract_posts_from_page_content(html_page):\n",
    "    def extract_posts_content_block(habr_all_posts_page):\n",
    "        return habr_all_posts_page.find_all('div', class_='posts_list')\n",
    "    def extract_only_posts(habr_posts_block):\n",
    "        return list(map(lambda element: element.find_all('article', class_='post_preview'), habr_posts_block))[0]\n",
    "    return extract_only_posts(extract_posts_content_block(html_page))\n",
    "\n",
    "def get_post_content(post: BeautifulSoup):\n",
    "    def get_title(post_data: BeautifulSoup):\n",
    "        return post_data.find_all('a', class_='post__title_link')[0].text\n",
    "    def get_content(post_data: BeautifulSoup):\n",
    "        return post_data.find_all('div', class_='post__text')[0].text\n",
    "    def get_link(post_data: BeautifulSoup):\n",
    "        return post_data.find_all('a', class_='post__title_link')[0].attrs.get('href')\n",
    "    return {\n",
    "        'title': get_title(post),\n",
    "        'content': get_content(post),\n",
    "        'link': get_link(post)\n",
    "    }\n",
    "\n",
    "def _is_contains_keywods(post_dict: dict):\n",
    "    for keyword in KEYWORDS:\n",
    "        if keyword.lower() in str(post_dict.get('title')).lower() \\\n",
    "                or keyword.lower() in str(post_dict.get('content')).lower():\n",
    "            return True\n",
    "    return False\n",
    "\n",
    "def add_posts_from_collection(posts_collection: list):\n",
    "    for post in posts_collection:\n",
    "        _add_post(post)\n",
    "\n",
    "def _add_post(post: BeautifulSoup):\n",
    "    post_dict = get_post_content(post)\n",
    "    if _is_contains_keywods(post_dict):\n",
    "        __all_posts.append(post_dict)\n",
    "\n",
    "first_page = read_data_from_remote_resource('https://habr.com/ru/all/')\n",
    "max_page_number = find_last_page_num(load_available_pages(first_page))\n",
    "\n",
    "add_posts_from_collection(extract_posts_from_page_content(first_page))\n",
    "\n",
    "for i in range(2, max_page_number + 1):\n",
    "    page = read_data_from_remote_resource('https://habr.com/ru/all/page' + str(i) + '/')\n",
    "    add_posts_from_collection(extract_posts_from_page_content(page))\n",
    "\n",
    "pd.DataFrame(__all_posts)"
   ],
   "metadata": {
    "collapsed": false,
    "pycharm": {
     "name": "#%%\n"
    }
   },
   "execution_count": null,
   "outputs": []
  },
  {
   "cell_type": "markdown",
   "source": [
    "Задание 2"
   ],
   "metadata": {
    "collapsed": false
   }
  },
  {
   "cell_type": "code",
   "execution_count": null,
   "outputs": [],
   "source": [
    "import requests\n",
    "import pandas as pd\n",
    "from bs4 import BeautifulSoup\n",
    "from typing import List\n",
    "import json\n",
    "\n",
    "EMAIL = ['xxx@x.ru', 'yyy@y.com']\n",
    "# EMAIL = ['nik.turchin@yandex.ru']\n",
    "\n",
    "def load_breaches(email: List[str]):\n",
    "    return requests.post(\n",
    "        url='https://identityprotection.avast.com/v1/web/query/site-breaches/unauthorized-data',\n",
    "        json={ 'emailAddresses': email },\n",
    "        headers={\n",
    "            'Vaar-Version': '0',\n",
    "            'Vaar-Header-App-Product': 'hackcheck-web-avast'\n",
    "        }\n",
    "    )\n",
    "\n",
    "def decode_response(content: bytes):\n",
    "    resp = json.loads(content)\n",
    "    return resp.get('breaches'), resp.get('data'), resp.get('summary')\n",
    "\n",
    "def __get_breach(list: dict, id: int):\n",
    "    return list.get(str(id))\n",
    "\n",
    "def get_source(breaches_list: dict, breach_id: int):\n",
    "    return __get_breach(breaches_list, breach_id).get('site')\n",
    "\n",
    "def get_details(breaches_list: dict, breach_id: int):\n",
    "    return __get_breach(breaches_list, breach_id).get('description')\n",
    "\n",
    "def get_breach_date(breaches_list: dict, breach_id: int):\n",
    "    return __get_breach(breaches_list, breach_id).get('publishDate')\n",
    "\n",
    "response = load_breaches(EMAIL)\n",
    "breaches, _, summary = decode_response(response.content)\n",
    "\n",
    "__all_breaches = []\n",
    "\n",
    "for email, details in summary.items():\n",
    "    __all_breaches.extend(list(map(\n",
    "        lambda breach_id: {\n",
    "            'email': email,\n",
    "            'source': get_source(breaches, breach_id),\n",
    "            'published_at': get_breach_date(breaches, breach_id),\n",
    "            'details': get_details(breaches, breach_id)\n",
    "        },\n",
    "        details.get('breaches')\n",
    "    )))\n",
    "\n",
    "\n",
    "pd.DataFrame(__all_breaches)"
   ],
   "metadata": {
    "collapsed": false,
    "pycharm": {
     "name": "#%%\n"
    }
   }
  }
 ],
 "metadata": {
  "kernelspec": {
   "display_name": "Python 3",
   "language": "python",
   "name": "python3"
  },
  "language_info": {
   "codemirror_mode": {
    "name": "ipython",
    "version": 2
   },
   "file_extension": ".py",
   "mimetype": "text/x-python",
   "name": "python",
   "nbconvert_exporter": "python",
   "pygments_lexer": "ipython2",
   "version": "2.7.6"
  }
 },
 "nbformat": 4,
 "nbformat_minor": 0
}