{
 "cells": [
  {
   "cell_type": "markdown",
   "metadata": {
    "collapsed": true,
    "pycharm": {
     "name": "#%% md\n"
    }
   },
   "source": [
    "Домашняя работа по теме \"Библиотека numpy. Вычислительные задачи\""
   ]
  },
  {
   "cell_type": "markdown",
   "source": [
    "Задание 1"
   ],
   "metadata": {
    "collapsed": false
   }
  },
  {
   "cell_type": "code",
   "execution_count": null,
   "outputs": [],
   "source": [
    "import numpy as np\n",
    "from numpy import linalg"
   ],
   "metadata": {
    "collapsed": false,
    "pycharm": {
     "name": "#%%\n"
    }
   }
  },
  {
   "cell_type": "code",
   "execution_count": null,
   "outputs": [],
   "source": [
    "x = int(input(\"Enter max array value (exclusive):\"))\n",
    "np.flip(np.arange(0, x))"
   ],
   "metadata": {
    "collapsed": false,
    "pycharm": {
     "name": "#%%\n"
    }
   }
  },
  {
   "cell_type": "markdown",
   "source": [
    "Задание 2"
   ],
   "metadata": {
    "collapsed": false
   }
  },
  {
   "cell_type": "code",
   "execution_count": null,
   "outputs": [],
   "source": [
    "x = 10\n",
    "diag_matrix = np.diag(np.arange(0, x), k=0)\n",
    "print('matrix')\n",
    "print(diag_matrix)\n",
    "\n",
    "print('np.trace result: ' + str(np.trace(diag_matrix)))\n",
    "print('np.diagonal result: ' + str(sum(np.diagonal(diag_matrix))))"
   ],
   "metadata": {
    "collapsed": false,
    "pycharm": {
     "name": "#%%\n"
    }
   }
  },
  {
   "cell_type": "markdown",
   "source": [
    "Задание 3"
   ],
   "metadata": {
    "collapsed": false
   }
  },
  {
   "cell_type": "code",
   "execution_count": null,
   "outputs": [],
   "source": [
    "left = np.array( [\n",
    "    [4, 2, 1],\n",
    "    [1, 3, 1],\n",
    "    [1, 5, 4]\n",
    "] )\n",
    "right = np.array( [4, 12, -3] )\n",
    "\n",
    "solution = linalg.solve(left, right)\n",
    "\n",
    "print(\"solution: \" + str(solution))\n",
    "\n",
    "print('solution is correct: ' + str(np.allclose(np.dot(left, solution), right)))"
   ],
   "metadata": {
    "collapsed": false,
    "pycharm": {
     "name": "#%%\n"
    }
   }
  },
  {
   "cell_type": "markdown",
   "source": [
    "Задание 4"
   ],
   "metadata": {
    "collapsed": false
   }
  },
  {
   "cell_type": "code",
   "execution_count": 17,
   "outputs": [
    {
     "name": "stdout",
     "output_type": "stream",
     "text": [
      "similar user_id: [8]\n"
     ]
    }
   ],
   "source": [
    "# {'cos_sim_val': ['user_id', 'user_id']}\n",
    "__result = {}\n",
    "\n",
    "def cos_sim(first, second):\n",
    "    def __len(vector):\n",
    "        return np.linalg.norm(vector)\n",
    "    return np.dot(first, second) / (__len(first) * __len(second))\n",
    "\n",
    "def user_id_from_index(index):\n",
    "    return index + 1\n",
    "\n",
    "def add_to_result(val, user):\n",
    "    user_arr = __result.get(val)\n",
    "    if user_arr is not None:\n",
    "        user_arr.append(user)\n",
    "    else:\n",
    "        __result.update({val: [user]})\n",
    "\n",
    "def find_most_similar_users():\n",
    "    return __result.get(max(__result.keys()))\n",
    "\n",
    "\n",
    "users_stats = np.array(\n",
    "    [\n",
    "        [2, 1, 0, 0, 0, 0],\n",
    "        [1, 1, 2, 1, 0, 0],\n",
    "        [2, 0, 1, 0, 0, 0],\n",
    "        [1, 1, 2, 1, 0, 1],\n",
    "        [0, 0, 1, 2, 0, 0],\n",
    "        [0, 0, 0, 0, 0, 5],\n",
    "        [1, 0, 0, 0, 0, 0],\n",
    "        [0, 1, 1, 0, 0, 0],\n",
    "        [0, 0, 0, 1, 1, 3],\n",
    "        [1, 0, 0, 2, 1, 4]\n",
    "    ],\n",
    "    np.int32\n",
    ")\n",
    "\n",
    "target_user_vec = np.array([0, 1, 2, 0, 0, 0])\n",
    "\n",
    "for i, vec in enumerate(users_stats):\n",
    "    add_to_result(cos_sim(target_user_vec, vec), user_id_from_index(i))\n",
    "\n",
    "print('similar user_id: ' + str(find_most_similar_users()))"
   ],
   "metadata": {
    "collapsed": false,
    "pycharm": {
     "name": "#%%\n"
    }
   }
  }
 ],
 "metadata": {
  "kernelspec": {
   "name": "pycharm-19b72d3e",
   "language": "python",
   "display_name": "PyCharm (pyda-13)"
  },
  "language_info": {
   "codemirror_mode": {
    "name": "ipython",
    "version": 2
   },
   "file_extension": ".py",
   "mimetype": "text/x-python",
   "name": "python",
   "nbconvert_exporter": "python",
   "pygments_lexer": "ipython2",
   "version": "2.7.6"
  }
 },
 "nbformat": 4,
 "nbformat_minor": 0
}