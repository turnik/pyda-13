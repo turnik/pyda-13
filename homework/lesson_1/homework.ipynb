{
 "cells": [
  {
   "cell_type": "markdown",
   "source": [
    "Задача 1"
   ],
   "metadata": {
    "collapsed": false
   }
  },
  {
   "cell_type": "code",
   "execution_count": null,
   "outputs": [],
   "source": [
    "from homework.lesson_1 import phrases\n",
    "\n",
    "phrases.comparator.compare('Насколько проще было бы писать программы, если бы не заказчики',\n",
    "                           '640Кб должно хватить для любых задач. Билл Гейтс (по легенде)')\n",
    "\n",
    "phrases.comparator.compare('640Кб должно хватить для любых задач. Билл Гейтс (по легенде)',\n",
    "                           'Насколько проще было бы писать программы, если бы не заказчики')\n",
    "\n",
    "phrases.comparator.compare('Насколько проще было бы писать программы, если бы не заказчики',\n",
    "                           'Насколько проще было бы писать программы, если бы не заказчики')"
   ],
   "metadata": {
    "collapsed": false,
    "pycharm": {
     "name": "#%%\n"
    }
   }
  },
  {
   "cell_type": "markdown",
   "source": [
    "Задача 2"
   ],
   "metadata": {
    "collapsed": false
   }
  },
  {
   "cell_type": "code",
   "execution_count": null,
   "outputs": [],
   "source": [
    "import calendar\n",
    "\n",
    "user_input = input('Введите год:')\n",
    "\n",
    "try:\n",
    "    year = int(user_input)\n",
    "    if calendar.isleap(year):\n",
    "        print('Високосный год')\n",
    "    else:\n",
    "        print('Обычный год')\n",
    "except ValueError:\n",
    "    print('Год должен быть числом! Например 2020')"
   ],
   "metadata": {
    "collapsed": false,
    "pycharm": {
     "name": "#%%\n"
    }
   }
  },
  {
   "cell_type": "markdown",
   "source": [
    "Задача 3"
   ],
   "metadata": {
    "collapsed": false
   }
  },
  {
   "cell_type": "code",
   "execution_count": null,
   "outputs": [],
   "source": [
    "# month name -> month number\n",
    "months_map = {\n",
    "    'январь': 1,\n",
    "    'февраль': 2,\n",
    "    'март': 3,\n",
    "    'апрель': 4,\n",
    "    'май': 5,\n",
    "    'июнь': 6,\n",
    "    'июль': 7,\n",
    "    'август': 8,\n",
    "    'сентябрь': 9,\n",
    "    'октябрь': 10,\n",
    "    'ноябрь': 11,\n",
    "    'декабрь': 12\n",
    "}\n",
    "\n",
    "# range_start(month, day), range_end(month, day), zodiac_sign\n",
    "zodiac_sign = (\n",
    "    ((3, 21), (4, 20), 'Овен'),\n",
    "    ((4, 21), (5, 21), 'Телец'),\n",
    "    ((5, 22), (6, 21), 'Близнецы'),\n",
    "    ((6, 22), (7, 22), 'Рак'),\n",
    "    ((7, 23), (8, 21), 'Лев'),\n",
    "    ((8, 22), (9, 23), 'Дева'),\n",
    "    ((9, 24), (10, 23), 'Весы'),\n",
    "    ((10, 24), (11, 22), 'Скорпион'),\n",
    "    ((11, 23), (12, 22), 'Стрелец'),\n",
    "    ((12, 23), (1, 20), 'Козерог'),\n",
    "    ((1, 21), (2, 19), 'Водолей'),\n",
    "    ((2, 20), (3, 20), 'Рыбы')\n",
    ")\n",
    "\n",
    "day = int(input('Введите день:'))\n",
    "month = months_map.get(input('Введите месяц:').lstrip().lower())\n",
    "\n",
    "for sign in zodiac_sign:\n",
    "    if (month == sign[0][0] and day >= sign[0][1]) or (month == sign[1][0] and day <= sign[1][1]):\n",
    "        print('Ваш знак зодиака: ' + sign[2])\n",
    "        break"
   ],
   "metadata": {
    "collapsed": false,
    "pycharm": {
     "name": "#%%\n"
    }
   }
  },
  {
   "cell_type": "markdown",
   "source": [
    "Задача 4"
   ],
   "metadata": {
    "collapsed": false
   }
  },
  {
   "cell_type": "code",
   "execution_count": null,
   "outputs": [],
   "source": [
    "def calculate_box(width, length, height):\n",
    "    if length > 200:\n",
    "        print('Упаковка для лыж')\n",
    "    elif width < 15 and length < 15 and height < 15:\n",
    "       print('Коробка №1')\n",
    "    elif (50 > width > 15) or (50 > length > 15) or (50 > height > 15):\n",
    "       print('Коробка №2')\n",
    "    else:\n",
    "        print('Стандартная коробка №3')\n",
    "\n",
    "calculate_box(10, 205, 5)"
   ],
   "metadata": {
    "collapsed": false,
    "pycharm": {
     "name": "#%%\n"
    }
   }
  },
  {
   "cell_type": "markdown",
   "source": [
    "Задача 5"
   ],
   "metadata": {
    "collapsed": false
   }
  },
  {
   "cell_type": "code",
   "execution_count": null,
   "outputs": [],
   "source": [
    "def is_lucky_ticket(ticket_number):\n",
    "    ticket_number = str(ticket_number)\n",
    "    numbers = list()\n",
    "    for num in ticket_number:\n",
    "        numbers.append(int(num))\n",
    "    return sum(numbers[0:3]) == sum(numbers[3:6])\n",
    "\n",
    "print(is_lucky_ticket(123321))\n",
    "print(is_lucky_ticket(123322))"
   ],
   "metadata": {
    "collapsed": false,
    "pycharm": {
     "name": "#%%\n"
    }
   }
  },
  {
   "cell_type": "markdown",
   "source": [
    "Задача 6"
   ],
   "metadata": {
    "collapsed": false
   }
  },
  {
   "cell_type": "code",
   "execution_count": null,
   "outputs": [],
   "source": [
    "from typing import Dict\n",
    "from homework.lesson_1.area_calculator import *\n",
    "\n",
    "shapes_handlers: Dict[str, ShapeHandler] = {\n",
    "    'круг': CircleHandler(),\n",
    "    'треугольник': TriangleHandler(),\n",
    "    'прямоугольник': RectangleHandler()\n",
    "}\n",
    "\n",
    "shape_type = input('Введите тип фигуры').strip().lower()\n",
    "\n",
    "shape = shapes_handlers.get(shape_type).handle_build_operation()\n",
    "shape.calculate_area().__round__(2)"
   ],
   "metadata": {
    "collapsed": false,
    "pycharm": {
     "name": "#%%\n"
    }
   }
  }
 ],
 "metadata": {
  "kernelspec": {
   "display_name": "Python 3",
   "language": "python",
   "name": "python3"
  },
  "language_info": {
   "codemirror_mode": {
    "name": "ipython",
    "version": 2
   },
   "file_extension": ".py",
   "mimetype": "text/x-python",
   "name": "python",
   "nbconvert_exporter": "python",
   "pygments_lexer": "ipython2",
   "version": "2.7.6"
  }
 },
 "nbformat": 4,
 "nbformat_minor": 0
}