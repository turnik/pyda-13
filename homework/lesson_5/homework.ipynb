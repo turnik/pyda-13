{
 "cells": [
  {
   "cell_type": "markdown",
   "metadata": {
    "collapsed": true,
    "pycharm": {
     "name": "#%% md\n"
    }
   },
   "source": [
    "Домашняя работа по теме \"Работа с файловой системой и модули\""
   ]
  },
  {
   "cell_type": "markdown",
   "source": [
    "Задание 1"
   ],
   "metadata": {
    "collapsed": false,
    "pycharm": {
     "name": "#%% md\n"
    }
   }
  },
  {
   "cell_type": "code",
   "execution_count": null,
   "outputs": [],
   "source": [
    "import json\n",
    "purchases = {}\n",
    "\n",
    "with open('purchase_log.txt', 'r') as purchase_log:\n",
    "    purchase_log.readline() # read first line to skip header data\n",
    "    for line in purchase_log:\n",
    "        rec = dict(json.loads(line.strip()))\n",
    "        purchases.update({ rec.get('user_id') : rec.get('category') })\n",
    "\n",
    "    print(dict(list(purchases.items())[:4]))"
   ],
   "metadata": {
    "collapsed": false,
    "pycharm": {
     "name": "#%%\n"
    }
   }
  },
  {
   "cell_type": "markdown",
   "source": [
    "Задание 2"
   ],
   "metadata": {
    "collapsed": false
   }
  },
  {
   "cell_type": "code",
   "execution_count": null,
   "outputs": [],
   "source": [
    "import csv\n",
    "\n",
    "with open('visit_log.csv', 'r') as visits:\n",
    "    with open('funnel.csv', 'w') as funnel:\n",
    "        funnel_writer = csv.writer(funnel, delimiter=',')\n",
    "        funnel_writer.writerow(['user_id', 'source', 'category'])\n",
    "        visits_csv = csv.DictReader(visits)\n",
    "        for row in visits_csv:\n",
    "            if row['user_id'] in purchases.keys():\n",
    "                print([row['user_id'], row['source'], purchases.get(row['user_id'])])\n",
    "                funnel_writer.writerow([row['user_id'], row['source'], purchases.get(row['user_id'])])\n",
    "        print('file processing finished')"
   ],
   "metadata": {
    "collapsed": false,
    "pycharm": {
     "name": "#%%\n"
    }
   }
  }
 ],
 "metadata": {
  "kernelspec": {
   "display_name": "Python 3",
   "language": "python",
   "name": "python3"
  },
  "language_info": {
   "codemirror_mode": {
    "name": "ipython",
    "version": 2
   },
   "file_extension": ".py",
   "mimetype": "text/x-python",
   "name": "python",
   "nbconvert_exporter": "python",
   "pygments_lexer": "ipython2",
   "version": "2.7.6"
  }
 },
 "nbformat": 4,
 "nbformat_minor": 0
}