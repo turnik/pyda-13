{
 "cells": [
  {
   "cell_type": "markdown",
   "metadata": {
    "collapsed": true,
    "pycharm": {
     "name": "#%% md\n"
    }
   },
   "source": [
    "Домашняя работа по теме pandas «Функции и работа с данными»"
   ]
  },
  {
   "cell_type": "markdown",
   "source": [
    "Задание 1"
   ],
   "metadata": {
    "collapsed": false
   }
  },
  {
   "cell_type": "code",
   "execution_count": null,
   "outputs": [],
   "source": [
    "import pandas as pd\n",
    "\n",
    "def calculate_rating_classification(rating):\n",
    "    return {\n",
    "        rating <= 2     : 'низкий рейтинг',\n",
    "        2 < rating <= 4 : 'средний рейтинг',\n",
    "        rating > 4      : 'высокий рейтинг'\n",
    "    } [True]\n",
    "\n",
    "ratings = pd.read_csv('ml-latest-small/ratings.csv')\n",
    "ratings['class'] = ratings['rating'].apply(calculate_rating_classification)\n",
    "\n",
    "ratings.head()"
   ],
   "metadata": {
    "collapsed": false,
    "pycharm": {
     "name": "#%%\n"
    }
   }
  },
  {
   "cell_type": "markdown",
   "source": [
    "Задание 2"
   ],
   "metadata": {
    "collapsed": false
   }
  },
  {
   "cell_type": "code",
   "execution_count": null,
   "outputs": [],
   "source": [
    "import pandas as pd\n",
    "from functools import reduce\n",
    "\n",
    "geo_data = {\n",
    "    'Центр': ['москва', 'тула', 'ярославль'],\n",
    "    'Северо-Запад': ['петербург', 'псков', 'мурманск'],\n",
    "    'Дальний Восток': ['владивосток', 'сахалин', 'хабаровск']\n",
    "}\n",
    "\n",
    "#prepare original dict for fast search by keyword\n",
    "__reversed_geo = reduce(lambda l, r: {**l, **r}, sum(list(map(lambda rec: list(map(lambda city: {city : rec[0]}, rec[1])), geo_data.items())), []))\n",
    "\n",
    "def find_region(string):\n",
    "    for city, region in __reversed_geo.items():\n",
    "        if city in string:\n",
    "            return region\n",
    "\n",
    "search_stat = pd.read_csv('keywords.csv')\n",
    "\n",
    "search_stat['region'] = search_stat['keyword'].apply(find_region)\n",
    "search_stat[search_stat['region'] == 'Центр'].head()"
   ],
   "metadata": {
    "collapsed": false,
    "pycharm": {
     "name": "#%%\n"
    }
   }
  },
  {
   "cell_type": "markdown",
   "source": [
    "Задание 3"
   ],
   "metadata": {
    "collapsed": false
   }
  },
  {
   "cell_type": "code",
   "execution_count": null,
   "outputs": [],
   "source": [
    "__years_list = []\n",
    "\n",
    "for x in range(1950, 2010):\n",
    "    __years_list.append(x)\n",
    "\n",
    "def get_production_year(string):\n",
    "    for year in __years_list:\n",
    "        if str(year) in string:\n",
    "            return year\n",
    "    return 1900\n",
    "\n",
    "movies_data = pd.read_csv('ml-latest-small/movies.csv')\n",
    "movies_data.head()\n",
    "movies_data['production_year'] = movies_data['title'].apply(get_production_year)\n",
    "\n",
    "\n",
    "movies = pd.merge(\n",
    "    pd.read_csv('ml-latest-small/ratings.csv'),\n",
    "    movies_data,\n",
    "    on='movieId'\n",
    ")\n",
    "\n",
    "# at first calculate mean rating for each movie\n",
    "# then calculate mean rating by movies for each year\n",
    "# sort and print\n",
    "movies.groupby('movieId').mean()\\\n",
    "    .groupby('production_year').mean()\\\n",
    "    .sort_values(by='rating', ascending=False)['rating']\\\n",
    "    .head()\n"
   ],
   "metadata": {
    "collapsed": false,
    "pycharm": {
     "name": "#%%\n"
    }
   }
  }
 ],
 "metadata": {
  "kernelspec": {
   "display_name": "Python 3",
   "language": "python",
   "name": "python3"
  },
  "language_info": {
   "codemirror_mode": {
    "name": "ipython",
    "version": 2
   },
   "file_extension": ".py",
   "mimetype": "text/x-python",
   "name": "python",
   "nbconvert_exporter": "python",
   "pygments_lexer": "ipython2",
   "version": "2.7.6"
  }
 },
 "nbformat": 4,
 "nbformat_minor": 0
}