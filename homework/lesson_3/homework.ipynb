{
 "cells": [
  {
   "cell_type": "markdown",
   "metadata": {
    "collapsed": true,
    "pycharm": {
     "name": "#%% md\n"
    }
   },
   "source": [
    "Домашняя работа к уроку «Управляющие конструкции и коллекции» часть 2"
   ]
  },
  {
   "cell_type": "markdown",
   "source": [
    "Задание 1"
   ],
   "metadata": {
    "collapsed": false
   }
  },
  {
   "cell_type": "code",
   "source": [
    "from functools import reduce\n",
    "\n",
    "ids = {\n",
    "    'user1': [213, 213, 213, 15, 213],\n",
    "    'user2': [54, 54, 119, 119, 119],\n",
    "    'user3': [213, 98, 98, 35]\n",
    "}\n",
    "\n",
    "geotags = reduce(lambda c, x: c + x, ids.values(), [])\n",
    "print(set(geotags))"
   ],
   "metadata": {
    "collapsed": false,
    "pycharm": {
     "name": "#%%\n"
    }
   },
   "execution_count": null,
   "outputs": []
  },
  {
   "cell_type": "markdown",
   "source": [
    "Задание 2"
   ],
   "metadata": {
    "collapsed": false
   }
  },
  {
   "cell_type": "code",
   "execution_count": null,
   "outputs": [],
   "source": [
    "from itertools import groupby\n",
    "\n",
    "queries = [\n",
    "    'смотреть сериалы онлайн',\n",
    "    'новости спорта',\n",
    "    'афиша кино',\n",
    "    'курс доллара',\n",
    "    'сериалы этим летом',\n",
    "    'курс по питону',\n",
    "    'сериалы про спорт'\n",
    "]\n",
    "\n",
    "words_count = list(map(lambda x: len(str(x).split()), queries))\n",
    "words_count.sort()\n",
    "sum_len = len(words_count)\n",
    "\n",
    "for key, group in groupby(words_count):\n",
    "    percent = (len(list(group)) / sum_len) * 100\n",
    "    print('Поисковых запросов, содержащих ' + str(key) + ' слов(а): ' + str(round(percent, 2)) + '%')\n"
   ],
   "metadata": {
    "collapsed": false,
    "pycharm": {
     "name": "#%%\n"
    }
   }
  },
  {
   "cell_type": "markdown",
   "source": [
    "Задание 3"
   ],
   "metadata": {
    "collapsed": false
   }
  },
  {
   "cell_type": "code",
   "execution_count": null,
   "outputs": [],
   "source": [
    "def add_roi(record: tuple) -> dict:\n",
    "    data = dict(record[1])\n",
    "    roi = (data.get('revenue') / data.get('cost') - 1) * 100\n",
    "    data.update(dict(roi = round(roi, 2)))\n",
    "    return {record[0]: data}\n",
    "\n",
    "results = {\n",
    "    'vk': {'revenue': 103, 'cost': 98},\n",
    "    'yandex': {'revenue': 179, 'cost': 153},\n",
    "    'facebook': {'revenue': 103, 'cost': 110},\n",
    "    'adwords': {'revenue': 35, 'cost': 34},\n",
    "    'twitter': {'revenue': 11, 'cost': 24},\n",
    "}\n",
    "\n",
    "for item in results.items():\n",
    "    print(add_roi(item))"
   ],
   "metadata": {
    "collapsed": false,
    "pycharm": {
     "name": "#%%\n"
    }
   }
  },
  {
   "cell_type": "markdown",
   "source": [
    "Задание 4"
   ],
   "metadata": {
    "collapsed": false
   }
  },
  {
   "cell_type": "code",
   "execution_count": null,
   "outputs": [],
   "source": [
    "import operator\n",
    "stats = {\n",
    "    'facebook': 55,\n",
    "    'yandex': 115,\n",
    "    'vk': 120,\n",
    "    'google': 99,\n",
    "    'email': 42,\n",
    "    'ok': 98\n",
    "}\n",
    "\n",
    "max_item = max(stats.items(), key=operator.itemgetter(1))\n",
    "\n",
    "print('Результат: Максимальный объем продаж на рекламном канале: ' + max_item[0])"
   ],
   "metadata": {
    "collapsed": false,
    "pycharm": {
     "name": "#%%\n"
    }
   }
  }
 ],
 "metadata": {
  "kernelspec": {
   "display_name": "Python 3",
   "language": "python",
   "name": "python3"
  },
  "language_info": {
   "codemirror_mode": {
    "name": "ipython",
    "version": 2
   },
   "file_extension": ".py",
   "mimetype": "text/x-python",
   "name": "python",
   "nbconvert_exporter": "python",
   "pygments_lexer": "ipython2",
   "version": "2.7.6"
  }
 },
 "nbformat": 4,
 "nbformat_minor": 0
}